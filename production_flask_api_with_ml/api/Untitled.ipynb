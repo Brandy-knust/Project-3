{
 "cells": [
  {
   "cell_type": "code",
   "execution_count": 8,
   "id": "496d6ac3",
   "metadata": {},
   "outputs": [],
   "source": [
    "response={\n",
    "    \"John Doe\":\"John Doe\",\n",
    "    \"Tim Johnson\":\"Tim Johnson\",\n",
    "    \"genre\":\"Comedy\",\n",
    "    \"runtime\":\"90-120 minutes\",\n",
    "    \"production_company\":\"Universal Pictures\",\n",
    "    \"content_rating\":\"R\"}"
   ]
  },
  {
   "cell_type": "code",
   "execution_count": 10,
   "id": "25ce4dfd",
   "metadata": {},
   "outputs": [],
   "source": [
    "non_director_keys = ['genre', 'runtime', 'production_company', 'content_rating']\n",
    "director_list = []"
   ]
  },
  {
   "cell_type": "code",
   "execution_count": 11,
   "id": "c56516e8",
   "metadata": {},
   "outputs": [],
   "source": [
    "for key in response.keys():\n",
    "    if key not in non_director_keys:\n",
    "        director_list.append(key)"
   ]
  },
  {
   "cell_type": "code",
   "execution_count": 12,
   "id": "5f48ecb3",
   "metadata": {},
   "outputs": [
    {
     "name": "stdout",
     "output_type": "stream",
     "text": [
      "['John Doe', 'Tim Johnson']\n"
     ]
    }
   ],
   "source": [
    "print(director_list)"
   ]
  },
  {
   "cell_type": "code",
   "execution_count": null,
   "id": "5bf477fe",
   "metadata": {},
   "outputs": [],
   "source": [
    ")"
   ]
  }
 ],
 "metadata": {
  "kernelspec": {
   "display_name": "Python 3",
   "language": "python",
   "name": "python3"
  },
  "language_info": {
   "codemirror_mode": {
    "name": "ipython",
    "version": 3
   },
   "file_extension": ".py",
   "mimetype": "text/x-python",
   "name": "python",
   "nbconvert_exporter": "python",
   "pygments_lexer": "ipython3",
   "version": "3.6.10"
  }
 },
 "nbformat": 4,
 "nbformat_minor": 5
}
